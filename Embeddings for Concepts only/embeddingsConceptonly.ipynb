{
 "cells": [
  {
   "cell_type": "code",
   "execution_count": 2,
   "metadata": {},
   "outputs": [],
   "source": [
    "import pandas as pd\n",
    "import numpy as np\n",
    "\n",
    "from pyrdf2vec import RDF2VecTransformer\n",
    "from pyrdf2vec.embedders import Word2Vec\n",
    "from pyrdf2vec.graphs import KG\n",
    "from pyrdf2vec.walkers import RandomWalker\n",
    "\n",
    "from rdflib import Graph\n",
    "import rdflib"
   ]
  },
  {
   "cell_type": "markdown",
   "source": [
    "### Define the entities"
   ],
   "metadata": {
    "collapsed": false
   }
  },
  {
   "cell_type": "code",
   "execution_count": 3,
   "metadata": {},
   "outputs": [],
   "source": [
    "#Define the entities\n",
    "#Load Data e.g. Data from Concepts related to Cancer(The CSV is from Semopenalex SPARQL)\n",
    "data = pd.read_csv(\"Samples/onlyConcepts.csv\", sep=\",\")\n",
    "\n",
    "#Define the entities from the CSV\n",
    "entities = [entity for entity in data[\"concept\"]]"
   ]
  },
  {
   "cell_type": "markdown",
   "source": [
    "### Define the Knowledge Graph about the SPARQL-Endpoint\n",
    "The embeddings are calculated for the Concepts, so the Literals are the Concept Titles & the Count of Works"
   ],
   "metadata": {
    "collapsed": false
   }
  },
  {
   "cell_type": "code",
   "execution_count": 4,
   "metadata": {},
   "outputs": [],
   "source": [
    "knowledge=KG(\n",
    "    \"https://semopenalex.org/sparql\",\n",
    "skip_predicates={\"http://www.w3.org/1999/02/22-rdf-syntax-ns#type\"}, \n",
    "    literals=[\n",
    "        [\"http://www.w3.org/2004/02/skos/core#prefLabel\"],\n",
    "        [ \"https://semopenalex.org/property/worksCount\"],\n",
    "        [ \"https://semopenalex.org/property/citedByCount\"],\n",
    "    ]\n",
    ")"
   ]
  },
  {
   "cell_type": "code",
   "execution_count": 5,
   "metadata": {},
   "outputs": [
    {
     "name": "stdout",
     "output_type": "stream",
     "text": [
      "KG(location='https://semopenalex.org/sparql', skip_predicates={'http://www.w3.org/1999/02/22-rdf-syntax-ns#type'}, literals=[['http://www.w3.org/2004/02/skos/core#prefLabel'], ['https://semopenalex.org/property/worksCount'], ['https://semopenalex.org/property/citedByCount']], fmt=None, mul_req=False, skip_verify=False, cache=TTLCache([], maxsize=1024, currsize=0), _is_remote=True)\n"
     ]
    }
   ],
   "source": [
    "print(knowledge )"
   ]
  },
  {
   "cell_type": "markdown",
   "source": [
    "### Define the RDF2VecTransformer\n",
    " Embedder: Word2Vec (Standard)\n",
    " Walker: RandomWalker (Standard)\n",
    " Starts randomly at one node(entity) and then randomly moves to the neighbor node(other entities). These movements are recorded by the algorithm. For the algorithm there are these parameters:\n",
    "     - max_walks: Specifies how many paths are to be generated per node (entity)\n",
    "     - max_depth: Determines the maximum depth a random walker can reach while traversing the graph\n",
    "     - with_reverse: With True also reversed edges can be used, with False not\n",
    "     - n_jobs: Specifies many jobs (i.e. the number of paths that are generated simultaneously) to be controlled at the same time. The higher the value, the more processing power is required"
   ],
   "metadata": {
    "collapsed": false
   }
  },
  {
   "cell_type": "code",
   "execution_count": 6,
   "metadata": {},
   "outputs": [],
   "source": [
    "transformer = RDF2VecTransformer(\n",
    "    Word2Vec(epochs=10),\n",
    "    walkers=[RandomWalker(max_walks=10, max_depth=4, with_reverse=False, n_jobs=2)],\n",
    "    verbose=1\n",
    ")"
   ]
  },
  {
   "cell_type": "code",
   "execution_count": 7,
   "metadata": {},
   "outputs": [
    {
     "name": "stderr",
     "output_type": "stream",
     "text": [
      "100%|██████████| 1122/1122 [14:16<00:00,  1.31it/s]\n"
     ]
    },
    {
     "name": "stdout",
     "output_type": "stream",
     "text": [
      "Extracted 11220 walks for 1122 entities (858.8786s)\n",
      "Fitted 11220 walks (0.5486s)\n"
     ]
    },
    {
     "name": "stderr",
     "output_type": "stream",
     "text": [
      "100%|██████████| 1122/1122 [00:00<00:00, 553517.89it/s]\n"
     ]
    },
    {
     "name": "stdout",
     "output_type": "stream",
     "text": [
      "Extracted 1122 literals for 1122 entities (416.6516s)\n"
     ]
    }
   ],
   "source": [
    "#Calculate the Embeddings & create for each embedding the defined Literals\n",
    "embeddings, literals = transformer.fit_transform(knowledge, entities)"
   ]
  },
  {
   "cell_type": "code",
   "execution_count": null,
   "metadata": {
    "pycharm": {
     "is_executing": true
    }
   },
   "outputs": [],
   "source": [
    "embeddings"
   ]
  },
  {
   "cell_type": "code",
   "execution_count": null,
   "metadata": {
    "pycharm": {
     "is_executing": true
    }
   },
   "outputs": [],
   "source": [
    "literals"
   ]
  },
  {
   "cell_type": "markdown",
   "source": [
    "### Transform the embeddings from multiple dimensions to 2 dimensions"
   ],
   "metadata": {
    "collapsed": false
   }
  },
  {
   "cell_type": "code",
   "execution_count": 11,
   "metadata": {},
   "outputs": [],
   "source": [
    "from sklearn.manifold import TSNE\n",
    "X_tsne = TSNE(random_state=1).fit_transform(np.vstack(embeddings))"
   ]
  },
  {
   "cell_type": "markdown",
   "source": [
    "### Data preparation for Visualization"
   ],
   "metadata": {
    "collapsed": false
   }
  },
  {
   "cell_type": "markdown",
   "source": [
    "The Concept Titles and des Count of Works, are saved in a list, but to create a DataFrame together with the embeddings, the values have to be separated"
   ],
   "metadata": {
    "collapsed": false
   }
  },
  {
   "cell_type": "code",
   "execution_count": 20,
   "outputs": [],
   "source": [
    "conceptTitle = [i[0] for i in literals]\n",
    "worksCount = [i[1] for i in literals]"
   ],
   "metadata": {
    "collapsed": false
   }
  },
  {
   "cell_type": "markdown",
   "source": [
    "Next, the concept titles, count of works and the 2-dimensional embeddings are stored together in a DataFrame"
   ],
   "metadata": {
    "collapsed": false
   }
  },
  {
   "cell_type": "code",
   "execution_count": 26,
   "metadata": {},
   "outputs": [],
   "source": [
    "data = pd.DataFrame({\"Concept Title\": conceptTitle, \"X\":X_tsne[:,0], \"Y\":X_tsne[:,1], \"countWork\":worksCount})"
   ]
  },
  {
   "cell_type": "code",
   "execution_count": null,
   "outputs": [],
   "source": [
    "data"
   ],
   "metadata": {
    "collapsed": false,
    "pycharm": {
     "is_executing": true
    }
   }
  },
  {
   "cell_type": "markdown",
   "source": [
    "For the visualization it is good to be able to sort the embeddings, therefore the distance to the center is calculated here.\n",
    "For the calculation we used the root function of Numpy to find out the distance to the center using Pythagoras"
   ],
   "metadata": {
    "collapsed": false
   }
  },
  {
   "cell_type": "code",
   "execution_count": 28,
   "outputs": [],
   "source": [
    "data['distance'] = np.sqrt(data['X']**2 + data['Y']**2)"
   ],
   "metadata": {
    "collapsed": false
   }
  },
  {
   "cell_type": "markdown",
   "source": [
    "#### Create RDF-File"
   ],
   "metadata": {
    "collapsed": false
   }
  },
  {
   "cell_type": "markdown",
   "source": [
    "For the upload into the Metaphactory, the DataFrame has to be converted into an RDF file, for this we used the library rdflib\n",
    "- For the declaration of the namespace we used an example URI (\"http://example.com/\")\n",
    "- The definition of each concept is done in such a way that each concept (e.g. concept1) has been assigned:\n",
    "    1. the type Concept\n",
    "    2. the concept Title\n",
    "    3. x-coordinate\n",
    "    4. y-coordinate\n",
    "    5. distance, to sort\n",
    "\n",
    "- !!! Attention, for the distinction in the metaphactory each predicate (e.g. namespace.title) must be unique"
   ],
   "metadata": {
    "collapsed": false
   }
  },
  {
   "cell_type": "code",
   "execution_count": 29,
   "outputs": [
    {
     "data": {
      "text/plain": "<Graph identifier=N3c505c056822423fa4cfb3e6b3580ef5 (<class 'rdflib.graph.Graph'>)>"
     },
     "execution_count": 29,
     "metadata": {},
     "output_type": "execute_result"
    }
   ],
   "source": [
    "from rdflib import XSD\n",
    "\n",
    "g = rdflib.Graph()\n",
    "namespace = rdflib.Namespace(\"http://example.com/\")\n",
    "for i, row in data.iterrows():\n",
    "    s = rdflib.URIRef(f\"http://example.com/concept{i}\")\n",
    "    g.add((s, rdflib.RDF.type, namespace.Concept))\n",
    "    g.add((s, namespace.title, rdflib.Literal(row['Concept Title'])))\n",
    "    g.add((s, namespace.x, rdflib.Literal(row['X'], datatype=XSD.float)))\n",
    "    g.add((s, namespace.y, rdflib.Literal(row['Y'], datatype=XSD.float)))\n",
    "    g.add((s, namespace.distance, rdflib.Literal(row['distance'], datatype=XSD.float)))\n",
    "    g.add((s, namespace.worksCount, rdflib.Literal(row['countWork'], datatype=XSD.integer)))\n",
    "\n",
    "g.serialize(destination='Outcomes/embeddings_conceptsOnly.ttl', format='turtle')"
   ],
   "metadata": {
    "collapsed": false
   }
  },
  {
   "cell_type": "code",
   "execution_count": null,
   "outputs": [],
   "source": [],
   "metadata": {
    "collapsed": false
   }
  }
 ],
 "metadata": {
  "kernelspec": {
   "display_name": "Python 3",
   "language": "python",
   "name": "python3"
  },
  "language_info": {
   "codemirror_mode": {
    "name": "ipython",
    "version": 3
   },
   "file_extension": ".py",
   "mimetype": "text/x-python",
   "name": "python",
   "nbconvert_exporter": "python",
   "pygments_lexer": "ipython3",
   "version": "3.9.13"
  },
  "orig_nbformat": 4,
  "vscode": {
   "interpreter": {
    "hash": "e4eed0e4ac208b39471a32ccc3ec406fd0993f32776dcc38ecc96ca87d526a53"
   }
  }
 },
 "nbformat": 4,
 "nbformat_minor": 2
}
